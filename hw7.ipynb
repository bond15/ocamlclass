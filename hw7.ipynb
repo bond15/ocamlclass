{
 "cells": [
  {
   "cell_type": "markdown",
   "metadata": {},
   "source": [
    "Actual Functor\n",
    "haskell\n",
    "```Haskell\n",
    "class Functor f where\n",
    "    fmap :: (a -> b) -> f a -> f b\n",
    "\n",
    "instance Functor Maybe where\n",
    "    fmap _ Nothing = Nothing\n",
    "    fmap f (Just a) = (Just $ f a)\n",
    "\n",
    "fmap even (Just 7) ==> Just False\n",
    "```\n",
    "\n",
    "or ocaml\n",
    "```Ocaml\n",
    "module type Functor = sig\n",
    "  type 'a f\n",
    "  val map : ('a -> 'b) -> 'a f -> 'b f\n",
    "end\n",
    "\n",
    "module Option_Functor : (Functor with type 'a f = 'a option) = struct\n",
    "  type 'a f = 'a option\n",
    "  let map f fa = match fa with\n",
    "                    | None -> None\n",
    "                    | Some(a) -> Some(f(a))\n",
    "\n",
    "end\n",
    "```"
   ]
  },
  {
   "cell_type": "markdown",
   "metadata": {},
   "source": [
    "Haskell TreeMap\n",
    "\n",
    "```Haskell\n",
    "class (Ord k, Eq k) => Dictionary t k v  | t -> v , t -> k where\n",
    "    data MapK t :: * -> * -> *\n",
    "    empty :: MapK t k v\n",
    "    lookup :: k -> MapK t k v -> Maybe v\n",
    "    insert :: k -> v -> MapK t k v -> MapK t k v\n",
    "\n",
    "instance (Ord k, Eq k) => Dictionary (Tree (k,v)) k v where\n",
    "    data MapK (Tree (k,v)) k v = M {tree :: Tree (k,v)} deriving Show\n",
    "    empty = M Leaf\n",
    "    lookup k (M Leaf) = Nothing\n",
    "    lookup k (M (Node (k',v) l r)) | k == k'    = Just v\n",
    "    lookup k (M (Node (k',v) l r)) | k < k'     = lookup k (M l)\n",
    "    lookup k (M (Node (k',v) l r))              = lookup k (M r)\n",
    "    insert k v (M Leaf)                         = M $ Node (k,v) Leaf Leaf\n",
    "    insert k v (M (Node (k',v') l r)) | k <= k' = M $ Node (k',v') (tree (insert k v (M l))) r\n",
    "    insert k v (M (Node (k',v') l r))           = M $ Node (k',v') l (tree (insert k v (M r)))\n",
    "\n",
    "type TreeMap k v = MapK (Tree (k,v)) k v\n",
    "\n",
    "x :: TreeMap Int String\n",
    "x = empty\n",
    "\n",
    "y :: TreeMap Int String\n",
    "y = insert 9 \"yeet\" $ insert 6 \"baz\" $ insert 5 \"bar\" $ insert 7 \"foo\" empty\n",
    "```"
   ]
  },
  {
   "cell_type": "code",
   "execution_count": null,
   "metadata": {},
   "outputs": [],
   "source": []
  },
  {
   "cell_type": "code",
   "execution_count": null,
   "metadata": {},
   "outputs": [],
   "source": []
  }
 ],
 "metadata": {
  "kernelspec": {
   "display_name": "OCaml default",
   "language": "OCaml",
   "name": "ocaml-jupyter"
  },
  "language_info": {
   "codemirror_mode": "text/x-ocaml",
   "file_extension": ".ml",
   "mimetype": "text/x-ocaml",
   "name": "OCaml",
   "nbconverter_exporter": null,
   "pygments_lexer": "OCaml",
   "version": "4.09.0"
  }
 },
 "nbformat": 4,
 "nbformat_minor": 4
}
