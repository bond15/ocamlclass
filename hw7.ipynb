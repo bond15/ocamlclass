{
 "cells": [
  {
   "cell_type": "markdown",
   "metadata": {},
   "source": [
    "Actual Functor\n",
    "haskell\n",
    "```Haskell\n",
    "class Functor f where\n",
    "    fmap :: (a -> b) -> f a -> f b\n",
    "\n",
    "instance Functor Maybe where\n",
    "    fmap _ Nothing = Nothing\n",
    "    fmap f (Just a) = (Just $ f a)\n",
    "\n",
    "fmap even (Just 7) ==> Just False\n",
    "```\n",
    "\n",
    "or ocaml\n",
    "```Ocaml\n",
    "module type Functor = sig\n",
    "  type 'a f\n",
    "  val map : ('a -> 'b) -> 'a f -> 'b f\n",
    "end\n",
    "\n",
    "module Option_Functor : (Functor with type 'a f = 'a option) = struct\n",
    "  type 'a f = 'a option\n",
    "  let map f fa = match fa with\n",
    "                    | None -> None\n",
    "                    | Some(a) -> Some(f(a))\n",
    "\n",
    "end\n",
    "```"
   ]
  },
  {
   "cell_type": "code",
   "execution_count": null,
   "metadata": {},
   "outputs": [],
   "source": []
  }
 ],
 "metadata": {
  "kernelspec": {
   "display_name": "OCaml default",
   "language": "OCaml",
   "name": "ocaml-jupyter"
  },
  "language_info": {
   "codemirror_mode": "text/x-ocaml",
   "file_extension": ".ml",
   "mimetype": "text/x-ocaml",
   "name": "OCaml",
   "nbconverter_exporter": null,
   "pygments_lexer": "OCaml",
   "version": "4.09.0"
  }
 },
 "nbformat": 4,
 "nbformat_minor": 4
}
