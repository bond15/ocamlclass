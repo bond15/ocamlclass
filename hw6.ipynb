{
 "cells": [
  {
   "cell_type": "code",
   "execution_count": 1,
   "metadata": {},
   "outputs": [
    {
     "data": {
      "text/plain": [
       "val o : ('a -> 'b) -> ('b -> 'c) -> 'a -> 'c = <fun>\n"
      ]
     },
     "execution_count": 1,
     "metadata": {},
     "output_type": "execute_result"
    }
   ],
   "source": [
    "let o f g = fun x -> g(f(x))"
   ]
  },
  {
   "cell_type": "code",
   "execution_count": 2,
   "metadata": {},
   "outputs": [
    {
     "data": {
      "text/plain": [
       "val repeat : ('a -> 'a) -> int -> 'a -> 'a = <fun>\n"
      ]
     },
     "execution_count": 2,
     "metadata": {},
     "output_type": "execute_result"
    }
   ],
   "source": [
    "let rec repeat f n x = match n with\n",
    "| 0 -> f x\n",
    "| n -> repeat (o f f) (n-1) x"
   ]
  },
  {
   "cell_type": "code",
   "execution_count": 3,
   "metadata": {},
   "outputs": [
    {
     "data": {
      "text/plain": [
       "val succ : int -> int = <fun>\n"
      ]
     },
     "execution_count": 3,
     "metadata": {},
     "output_type": "execute_result"
    }
   ],
   "source": [
    "let succ x = x + 1\n"
   ]
  },
  {
   "cell_type": "code",
   "execution_count": 4,
   "metadata": {},
   "outputs": [
    {
     "data": {
      "text/plain": [
       "- : int = 7\n"
      ]
     },
     "execution_count": 4,
     "metadata": {},
     "output_type": "execute_result"
    }
   ],
   "source": [
    "repeat succ 1 5\n"
   ]
  },
  {
   "cell_type": "code",
   "execution_count": 24,
   "metadata": {},
   "outputs": [
    {
     "data": {
      "text/plain": [
       "val ( -- ) : int -> int -> int list = <fun>\n"
      ]
     },
     "execution_count": 24,
     "metadata": {},
     "output_type": "execute_result"
    },
    {
     "data": {
      "text/plain": [
       "val filter : ('a -> bool) -> 'a list -> 'a list = <fun>\n"
      ]
     },
     "execution_count": 24,
     "metadata": {},
     "output_type": "execute_result"
    },
    {
     "data": {
      "text/plain": [
       "val map : ('a -> 'b) -> 'a list -> 'b list = <fun>\n"
      ]
     },
     "execution_count": 24,
     "metadata": {},
     "output_type": "execute_result"
    },
    {
     "data": {
      "text/plain": [
       "val fold_left : ('a -> 'b -> 'a) -> 'a -> 'b list -> 'a = <fun>\n"
      ]
     },
     "execution_count": 24,
     "metadata": {},
     "output_type": "execute_result"
    },
    {
     "data": {
      "text/plain": [
       "val length : 'a list -> int = <fun>\n"
      ]
     },
     "execution_count": 24,
     "metadata": {},
     "output_type": "execute_result"
    }
   ],
   "source": [
    "let (--) i j =\n",
    "  let rec from i j l =\n",
    "    if i>j then l\n",
    "    else from i (j-1) (j::l)\n",
    "    in from i j []\n",
    "let rec filter f = function\n",
    "  | [] -> []\n",
    "  | h::t -> if f h then h::(filter f t) else filter f t\n",
    "let rec map f = function\n",
    "  | [] -> []\n",
    "  | h::t -> (f h)::(map f t)\n",
    "let rec fold_left op acc = function\n",
    "  | []   -> acc\n",
    "  | h :: t -> fold_left op (op acc h) t\n",
    "let rec length = function\n",
    "  | [] -> 0\n",
    "  | x :: xs -> 1 + length xs "
   ]
  },
  {
   "cell_type": "code",
   "execution_count": 25,
   "metadata": {},
   "outputs": [
    {
     "data": {
      "text/plain": [
       "val sum_cube_odd : int -> int = <fun>\n"
      ]
     },
     "execution_count": 25,
     "metadata": {},
     "output_type": "execute_result"
    }
   ],
   "source": [
    "let sum_cube_odd n = fold_left (fun a x -> a + (x * x * x)) 0 (filter (fun x -> x mod 2 == 0) (0--n))\n"
   ]
  },
  {
   "cell_type": "markdown",
   "metadata": {},
   "source": [
    "classic example punned from PL literature\n",
    "\n",
    "improvements:\n",
    "\n",
    "or filter in the folded function to get rid of a pass\n",
    "\n",
    "or construct the stream, filter it on construction, and apply the fold in one pass\n",
    "\n",
    "\n",
    "Haskell list fusion (total maps) example\n",
    "(todo extend with stream generators + folds)\n",
    "\n",
    "\n",
    "```Haskell \n",
    "data Term a b where\n",
    "    Map :: (a -> b) -> Term a b\n",
    "    Filter :: (a -> Maybe a) -> Term a (Maybe a)\n",
    "    \n",
    "fuseMap :: Term a b -> Term b c -> Term a c\n",
    "fuseMap (Map f ) (Map g) = Map $ g . f\n",
    "\n",
    "filterFuse :: Term a (Maybe a) -> Term a b ->  Term a (Maybe b)\n",
    "filterFuse (Filter p) (Map f ) = Map (\\x -> p x >>= Just . f)\n",
    "\n",
    "fuseFilter :: Term a b -> Term b (Maybe b) -> Term a (Maybe b)\n",
    "fuseFilter (Map f) (Filter p) = Map $ p . f\n",
    "\n",
    "-- infix syntax\n",
    "(||) = fuseMap\n",
    "(>|) = filterFuse\n",
    "(|>) = fuseFilter\n",
    "\n",
    "filter p = Filter $ \\x -> case p x of\n",
    "                            True -> Just x\n",
    "                            _ -> Nothing\n",
    "\n",
    "map :: (a -> b) -> Term a b\n",
    "map = Map\n",
    "\n",
    "run :: Term a b -> [a] -> [b]\n",
    "run (Map f) xs = fmap f xs\n",
    "\n",
    "-- example\n",
    "run (map (+1) || map (^2) |> filter even) [1..6] ==> [Just 4,Nothing,Just 16,Nothing,Just 36,Nothing]\n",
    "\n",
    "(map (+1) || map (^2) |> filter even) ==> Map (\\x ->  case (even ((x+1)^2)) of\n",
    "                                                        True -> Just x\n",
    "                                                        _ -> Nothing )\n",
    "\n",
    "```\n",
    "\n",
    "\n",
    "--see fold and fusion laws\n",
    "\n",
    "https://www.cs.ox.ac.uk/people/ralf.hinze/publications/IFL10.pdf\n",
    "\n",
    "^^ fusion\n",
    "\n",
    "https://www.ccs.neu.edu/home/amal/course/7480-s12/deforestation-notes.pdf\n",
    "\n",
    "see also 'deforestation'\n",
    "\n",
    "http://research.nii.ac.jp/~hu/pub/fac12.pdf\n",
    "\n",
    "map reduce should have something like this in its core calculus\n"
   ]
  },
  {
   "cell_type": "code",
   "execution_count": 26,
   "metadata": {},
   "outputs": [
    {
     "data": {
      "text/plain": [
       "- : int = 1800\n"
      ]
     },
     "execution_count": 26,
     "metadata": {},
     "output_type": "execute_result"
    }
   ],
   "source": [
    "sum_cube_odd 10"
   ]
  },
  {
   "cell_type": "code",
   "execution_count": 30,
   "metadata": {},
   "outputs": [
    {
     "data": {
      "text/plain": [
       "val exists : ('a -> bool) -> 'a list -> bool = <fun>\n"
      ]
     },
     "execution_count": 30,
     "metadata": {},
     "output_type": "execute_result"
    }
   ],
   "source": [
    "let exists p xs = length (filter p xs) > 1"
   ]
  },
  {
   "cell_type": "markdown",
   "metadata": {},
   "source": [
    "treemap (haskell code golf)\n",
    "\n",
    "```Haskell\n",
    "data Tree a = Leaf | Node a (Tree a) (Tree a) deriving (Functor, Show)\n",
    "\n",
    "add1 = fmap (+1)\n",
    "```"
   ]
  },
  {
   "cell_type": "code",
   "execution_count": null,
   "metadata": {},
   "outputs": [],
   "source": []
  },
  {
   "cell_type": "markdown",
   "metadata": {},
   "source": [
    "```Haskell\n",
    "curry :: ((a,b) -> c) -> a -> b -> c\n",
    "curry f = (\\a -> \\b -> f (a,b))\n",
    "\n",
    "uncurry :: (a -> b -> c) -> (a,b) -> c\n",
    "uncurry f = (\\p -> f (fst p) (snd p))\n",
    "```"
   ]
  },
  {
   "cell_type": "code",
   "execution_count": null,
   "metadata": {},
   "outputs": [],
   "source": []
  },
  {
   "cell_type": "markdown",
   "metadata": {},
   "source": [
    "tree fold (via catamorphism)\n",
    "\n",
    "```Haskell\n",
    "data TreeF a b = Leaf a| Node a b b deriving Functor\n",
    "\n",
    "data Fix f = In {out :: (f (Fix f))}\n",
    "\n",
    "type Tree a = Fix (TreeF a)\n",
    "\n",
    "type Algebra f a = f a -> a\n",
    "\n",
    "-- catamorphism (fold for F-algebras)\n",
    "cata :: Functor f => Algebra f a -> (Fix f) -> a\n",
    "cata alg = alg . fmap (cata alg) . out\n",
    "\n",
    "-- END setup\n",
    "\n",
    "-- Start example\n",
    "\n",
    "-- example of Tree\n",
    "val :: Tree Int\n",
    "val = (In (Node 9 (In (Leaf 2)) (In (Leaf 8))))\n",
    "\n",
    "--smart constructors   \n",
    "leaf :: a -> Tree a \n",
    "leaf = In . Leaf\n",
    "node :: a -> Tree a -> Tree a -> Tree a\n",
    "node v l r = In (Node v l r) \n",
    "\n",
    "-- example of Tree using smart constructors\n",
    "val2 :: Tree Int\n",
    "val2 = node 9 (leaf 3) (leaf 9)\n",
    "\n",
    "\n",
    "-- an algebra to fold over the tree with \n",
    "--note: sub terms are already computed in match\n",
    "--note: no recursive calls to sumTreeAlg\n",
    "sumTreeAlg :: Algebra (TreeF Int) Int\n",
    "sumTreeAlg (Leaf n) = n \n",
    "sumTreeAlg (Node n l r) = n + l + r\n",
    "\n",
    "\n",
    "-- use catamorphism to fold the algebra over a term\n",
    "sumTree = cata sumTreeAlg\n",
    "\n",
    "-- usage\n",
    "sumTree val2 ==> 21\n",
    "```"
   ]
  },
  {
   "cell_type": "markdown",
   "metadata": {},
   "source": [
    "Valid Matrix (using the typechecker to determine if the matrix is valid):r\n",
    "\n",
    "```Haskell\n",
    "-- type level natural numbers\n",
    "data Z = Z\n",
    "\n",
    "data S a = S a\n",
    "\n",
    "type Zero = Z\n",
    "type One = S Zero\n",
    "type Two = S One\n",
    "type Three = S Two\n",
    "type Four = S Three\n",
    "\n",
    "-- size indexed lists\n",
    "data List s a where\n",
    "    Nil :: List Z a\n",
    "    Cons :: a -> List s a -> List (S s) a\n",
    "\n",
    "-- s row, s' col\n",
    "-- size indexed matrix\n",
    "data Mat s s' a where\n",
    "    Empty :: Mat Z Z a\n",
    "    R :: List s (List s' a) -> Mat s s' a\n",
    "\n",
    "r1 = Cons 1 $ Cons 2 $ Cons 3 Nil\n",
    "r2 = Cons 4 $ Cons 5 $ Cons 6 Nil\n",
    "\n",
    "\n",
    "mat :: Mat Two Three Int\n",
    "mat = R $ Cons r1 $ Cons r2 Nil\n",
    "```"
   ]
  },
  {
   "cell_type": "markdown",
   "metadata": {},
   "source": [
    "Same as above but with using GHC type literals and unleashing the compiler extensions\n",
    "\n",
    "```Haskell\n",
    "{-# LANGUAGE DataKinds           #-}\n",
    "{-# LANGUAGE DeriveFunctor       #-}\n",
    "{-# LANGUAGE GADTs               #-}\n",
    "{-# LANGUAGE KindSignatures      #-}\n",
    "{-# LANGUAGE RankNTypes          #-}\n",
    "{-# LANGUAGE ScopedTypeVariables #-}\n",
    "{-# LANGUAGE TypeApplications    #-}\n",
    "{-# LANGUAGE TypeOperators       #-}\n",
    "module MadLit where\n",
    "import GHC.TypeNats\n",
    "import Prelude hiding (Nat, length)\n",
    "import           Data.Proxy\n",
    "\n",
    "\n",
    "data List a = Nil | Cons a (List a) deriving Functor\n",
    "\n",
    "length Nil = 0\n",
    "length (Cons _ xs) = 1 + length xs\n",
    "\n",
    "-- Indexed List\n",
    "data SafeList (n :: Nat) a = MkList { getList :: List a}\n",
    "\n",
    "mkList :: forall n a. KnownNat n => List a -> SafeList n a -- could use Maybe to fail gracefulls\n",
    "mkList xs | length xs == fromIntegral (natVal (Proxy @n)) = MkList xs\n",
    "mkList _ = undefined\n",
    "\n",
    "\n",
    "test :: SafeList 3 Int\n",
    "test = mkList (Cons 1 (Cons 2 (Cons 3 Nil)))\n",
    "\n",
    "-- Indexed Matrix \n",
    "\n",
    "data SafeMat (n :: Nat) (m :: Nat) a = MkMat {getMat :: List (List a)}\n",
    "\n",
    "mkSafeMat :: forall n m a. (KnownNat n, KnownNat m) => SafeList n (SafeList m a) -> SafeMat n m a\n",
    "mkSafeMat mat = MkMat $ fmap getList (getList mat)\n",
    "\n",
    "\n",
    "sr1 :: SafeList 3 Int\n",
    "sr1 = mkList (Cons 1 ( Cons 2 ( Cons 3 Nil)))\n",
    "sr2 :: SafeList 3 Int\n",
    "sr2 = mkList ( Cons 4 ( Cons 5 ( Cons 6 Nil)))\n",
    "\n",
    "mat :: SafeMat 2 3 Int\n",
    "mat = mkSafeMat ( mkList ( Cons sr1 ( Cons sr2 Nil)))\n",
    "```"
   ]
  },
  {
   "cell_type": "markdown",
   "metadata": {},
   "source": [
    "Or using Dependent Types (Agda)\n",
    "\n",
    "```Agda\n",
    "module Mat where\n",
    "\n",
    "data ℕ : Set where\n",
    "  Z : ℕ\n",
    "  S : ℕ -> ℕ\n",
    "\n",
    "{-# BUILTIN NATURAL ℕ #-}\n",
    "\n",
    "infixr 20 _,_\n",
    "data List (A : Set) : ℕ -> Set where\n",
    "  Nil : List A 0\n",
    "  _,_ : {n : ℕ} -> A -> List A n -> List A (S n)\n",
    "\n",
    "data Mat (A : Set) : ℕ -> ℕ -> Set where\n",
    "  MkMat : {n m : ℕ} -> List (List A m) n -> Mat A n m\n",
    "\n",
    "_ : Mat ℕ 2 3\n",
    "_ = MkMat ((1 , 2 , 3 , Nil) ,\n",
    "           (4 , 5 , 6 , Nil) , Nil)\n",
    "```"
   ]
  },
  {
   "cell_type": "markdown",
   "metadata": {},
   "source": [
    "Or Refinement types (Liquid Haskell, GHC plugin)\n",
    "\n",
    "https://liquid.kosmikus.org/01-intro.html\n",
    "\n",
    "```Haskell\n",
    "{-@ measure len @-}\n",
    "len :: [a] -> Int\n",
    "len [] = 0\n",
    "len (x : xs) = 1 + len xs\n",
    "\n",
    "rowtest :: [[a]] -> Int -> Bool\n",
    "rowtest [] n = True\n",
    "rowtest (x : xs) n = len x == n && rowtest xs n \n",
    "\n",
    "{-@ type MList a =  {v:[[a]] |  len v > 0 && len (head v) > 0 } @-} -- && rowtest v (len v) } @-}\n",
    "\n",
    "{-@ data Mat a = Mat (MList a) @-}\n",
    "data Mat a = Mat [[a]]\n",
    "\n",
    "m = Mat [[1]] -- typechecks\n",
    "m' = Mat [[]] -- does not typecheck!\n",
    "```"
   ]
  },
  {
   "cell_type": "code",
   "execution_count": null,
   "metadata": {},
   "outputs": [],
   "source": []
  },
  {
   "cell_type": "code",
   "execution_count": null,
   "metadata": {},
   "outputs": [],
   "source": []
  },
  {
   "cell_type": "code",
   "execution_count": null,
   "metadata": {},
   "outputs": [],
   "source": []
  },
  {
   "cell_type": "code",
   "execution_count": null,
   "metadata": {},
   "outputs": [],
   "source": []
  }
 ],
 "metadata": {
  "kernelspec": {
   "display_name": "OCaml default",
   "language": "OCaml",
   "name": "ocaml-jupyter"
  },
  "language_info": {
   "codemirror_mode": "text/x-ocaml",
   "file_extension": ".ml",
   "mimetype": "text/x-ocaml",
   "name": "OCaml",
   "nbconverter_exporter": null,
   "pygments_lexer": "OCaml",
   "version": "4.09.0"
  }
 },
 "nbformat": 4,
 "nbformat_minor": 4
}
